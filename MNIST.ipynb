{
  "nbformat": 4,
  "nbformat_minor": 0,
  "metadata": {
    "colab": {
      "provenance": [],
      "authorship_tag": "ABX9TyPVnbmhjM7gMDd6lp0TeUJp",
      "include_colab_link": true
    },
    "kernelspec": {
      "name": "python3",
      "display_name": "Python 3"
    },
    "language_info": {
      "name": "python"
    },
    "widgets": {
      "application/vnd.jupyter.widget-state+json": {
        "fd9e93ff9b56450690c8f0f96187e487": {
          "model_module": "@jupyter-widgets/controls",
          "model_name": "HBoxModel",
          "model_module_version": "1.5.0",
          "state": {
            "_dom_classes": [],
            "_model_module": "@jupyter-widgets/controls",
            "_model_module_version": "1.5.0",
            "_model_name": "HBoxModel",
            "_view_count": null,
            "_view_module": "@jupyter-widgets/controls",
            "_view_module_version": "1.5.0",
            "_view_name": "HBoxView",
            "box_style": "",
            "children": [
              "IPY_MODEL_e62c96c6fbfa4608b5a6915dc31541a1",
              "IPY_MODEL_519ca3eab64e43e0b0a6556e87a5755f",
              "IPY_MODEL_1b1c6545e7ba4029bf86ce8814a7ec7b"
            ],
            "layout": "IPY_MODEL_f25ea86071a4473694fff89d2514716d"
          }
        },
        "e62c96c6fbfa4608b5a6915dc31541a1": {
          "model_module": "@jupyter-widgets/controls",
          "model_name": "HTMLModel",
          "model_module_version": "1.5.0",
          "state": {
            "_dom_classes": [],
            "_model_module": "@jupyter-widgets/controls",
            "_model_module_version": "1.5.0",
            "_model_name": "HTMLModel",
            "_view_count": null,
            "_view_module": "@jupyter-widgets/controls",
            "_view_module_version": "1.5.0",
            "_view_name": "HTMLView",
            "description": "",
            "description_tooltip": null,
            "layout": "IPY_MODEL_2d090bab6e764e4cb1239b29ede33865",
            "placeholder": "​",
            "style": "IPY_MODEL_54ac03e2e6fe4a36a2322c6021e9ae94",
            "value": "Dl Completed...: 100%"
          }
        },
        "519ca3eab64e43e0b0a6556e87a5755f": {
          "model_module": "@jupyter-widgets/controls",
          "model_name": "FloatProgressModel",
          "model_module_version": "1.5.0",
          "state": {
            "_dom_classes": [],
            "_model_module": "@jupyter-widgets/controls",
            "_model_module_version": "1.5.0",
            "_model_name": "FloatProgressModel",
            "_view_count": null,
            "_view_module": "@jupyter-widgets/controls",
            "_view_module_version": "1.5.0",
            "_view_name": "ProgressView",
            "bar_style": "success",
            "description": "",
            "description_tooltip": null,
            "layout": "IPY_MODEL_47a76b3fe9b54861adca3123d1c3ca44",
            "max": 5,
            "min": 0,
            "orientation": "horizontal",
            "style": "IPY_MODEL_4e98fb8041c149118b9849aa37635879",
            "value": 5
          }
        },
        "1b1c6545e7ba4029bf86ce8814a7ec7b": {
          "model_module": "@jupyter-widgets/controls",
          "model_name": "HTMLModel",
          "model_module_version": "1.5.0",
          "state": {
            "_dom_classes": [],
            "_model_module": "@jupyter-widgets/controls",
            "_model_module_version": "1.5.0",
            "_model_name": "HTMLModel",
            "_view_count": null,
            "_view_module": "@jupyter-widgets/controls",
            "_view_module_version": "1.5.0",
            "_view_name": "HTMLView",
            "description": "",
            "description_tooltip": null,
            "layout": "IPY_MODEL_303674be78084f59b155cc1733825700",
            "placeholder": "​",
            "style": "IPY_MODEL_be3bb0c565f24315bc9f63389f021df0",
            "value": " 5/5 [00:00&lt;00:00,  5.61 file/s]"
          }
        },
        "f25ea86071a4473694fff89d2514716d": {
          "model_module": "@jupyter-widgets/base",
          "model_name": "LayoutModel",
          "model_module_version": "1.2.0",
          "state": {
            "_model_module": "@jupyter-widgets/base",
            "_model_module_version": "1.2.0",
            "_model_name": "LayoutModel",
            "_view_count": null,
            "_view_module": "@jupyter-widgets/base",
            "_view_module_version": "1.2.0",
            "_view_name": "LayoutView",
            "align_content": null,
            "align_items": null,
            "align_self": null,
            "border": null,
            "bottom": null,
            "display": null,
            "flex": null,
            "flex_flow": null,
            "grid_area": null,
            "grid_auto_columns": null,
            "grid_auto_flow": null,
            "grid_auto_rows": null,
            "grid_column": null,
            "grid_gap": null,
            "grid_row": null,
            "grid_template_areas": null,
            "grid_template_columns": null,
            "grid_template_rows": null,
            "height": null,
            "justify_content": null,
            "justify_items": null,
            "left": null,
            "margin": null,
            "max_height": null,
            "max_width": null,
            "min_height": null,
            "min_width": null,
            "object_fit": null,
            "object_position": null,
            "order": null,
            "overflow": null,
            "overflow_x": null,
            "overflow_y": null,
            "padding": null,
            "right": null,
            "top": null,
            "visibility": null,
            "width": null
          }
        },
        "2d090bab6e764e4cb1239b29ede33865": {
          "model_module": "@jupyter-widgets/base",
          "model_name": "LayoutModel",
          "model_module_version": "1.2.0",
          "state": {
            "_model_module": "@jupyter-widgets/base",
            "_model_module_version": "1.2.0",
            "_model_name": "LayoutModel",
            "_view_count": null,
            "_view_module": "@jupyter-widgets/base",
            "_view_module_version": "1.2.0",
            "_view_name": "LayoutView",
            "align_content": null,
            "align_items": null,
            "align_self": null,
            "border": null,
            "bottom": null,
            "display": null,
            "flex": null,
            "flex_flow": null,
            "grid_area": null,
            "grid_auto_columns": null,
            "grid_auto_flow": null,
            "grid_auto_rows": null,
            "grid_column": null,
            "grid_gap": null,
            "grid_row": null,
            "grid_template_areas": null,
            "grid_template_columns": null,
            "grid_template_rows": null,
            "height": null,
            "justify_content": null,
            "justify_items": null,
            "left": null,
            "margin": null,
            "max_height": null,
            "max_width": null,
            "min_height": null,
            "min_width": null,
            "object_fit": null,
            "object_position": null,
            "order": null,
            "overflow": null,
            "overflow_x": null,
            "overflow_y": null,
            "padding": null,
            "right": null,
            "top": null,
            "visibility": null,
            "width": null
          }
        },
        "54ac03e2e6fe4a36a2322c6021e9ae94": {
          "model_module": "@jupyter-widgets/controls",
          "model_name": "DescriptionStyleModel",
          "model_module_version": "1.5.0",
          "state": {
            "_model_module": "@jupyter-widgets/controls",
            "_model_module_version": "1.5.0",
            "_model_name": "DescriptionStyleModel",
            "_view_count": null,
            "_view_module": "@jupyter-widgets/base",
            "_view_module_version": "1.2.0",
            "_view_name": "StyleView",
            "description_width": ""
          }
        },
        "47a76b3fe9b54861adca3123d1c3ca44": {
          "model_module": "@jupyter-widgets/base",
          "model_name": "LayoutModel",
          "model_module_version": "1.2.0",
          "state": {
            "_model_module": "@jupyter-widgets/base",
            "_model_module_version": "1.2.0",
            "_model_name": "LayoutModel",
            "_view_count": null,
            "_view_module": "@jupyter-widgets/base",
            "_view_module_version": "1.2.0",
            "_view_name": "LayoutView",
            "align_content": null,
            "align_items": null,
            "align_self": null,
            "border": null,
            "bottom": null,
            "display": null,
            "flex": null,
            "flex_flow": null,
            "grid_area": null,
            "grid_auto_columns": null,
            "grid_auto_flow": null,
            "grid_auto_rows": null,
            "grid_column": null,
            "grid_gap": null,
            "grid_row": null,
            "grid_template_areas": null,
            "grid_template_columns": null,
            "grid_template_rows": null,
            "height": null,
            "justify_content": null,
            "justify_items": null,
            "left": null,
            "margin": null,
            "max_height": null,
            "max_width": null,
            "min_height": null,
            "min_width": null,
            "object_fit": null,
            "object_position": null,
            "order": null,
            "overflow": null,
            "overflow_x": null,
            "overflow_y": null,
            "padding": null,
            "right": null,
            "top": null,
            "visibility": null,
            "width": null
          }
        },
        "4e98fb8041c149118b9849aa37635879": {
          "model_module": "@jupyter-widgets/controls",
          "model_name": "ProgressStyleModel",
          "model_module_version": "1.5.0",
          "state": {
            "_model_module": "@jupyter-widgets/controls",
            "_model_module_version": "1.5.0",
            "_model_name": "ProgressStyleModel",
            "_view_count": null,
            "_view_module": "@jupyter-widgets/base",
            "_view_module_version": "1.2.0",
            "_view_name": "StyleView",
            "bar_color": null,
            "description_width": ""
          }
        },
        "303674be78084f59b155cc1733825700": {
          "model_module": "@jupyter-widgets/base",
          "model_name": "LayoutModel",
          "model_module_version": "1.2.0",
          "state": {
            "_model_module": "@jupyter-widgets/base",
            "_model_module_version": "1.2.0",
            "_model_name": "LayoutModel",
            "_view_count": null,
            "_view_module": "@jupyter-widgets/base",
            "_view_module_version": "1.2.0",
            "_view_name": "LayoutView",
            "align_content": null,
            "align_items": null,
            "align_self": null,
            "border": null,
            "bottom": null,
            "display": null,
            "flex": null,
            "flex_flow": null,
            "grid_area": null,
            "grid_auto_columns": null,
            "grid_auto_flow": null,
            "grid_auto_rows": null,
            "grid_column": null,
            "grid_gap": null,
            "grid_row": null,
            "grid_template_areas": null,
            "grid_template_columns": null,
            "grid_template_rows": null,
            "height": null,
            "justify_content": null,
            "justify_items": null,
            "left": null,
            "margin": null,
            "max_height": null,
            "max_width": null,
            "min_height": null,
            "min_width": null,
            "object_fit": null,
            "object_position": null,
            "order": null,
            "overflow": null,
            "overflow_x": null,
            "overflow_y": null,
            "padding": null,
            "right": null,
            "top": null,
            "visibility": null,
            "width": null
          }
        },
        "be3bb0c565f24315bc9f63389f021df0": {
          "model_module": "@jupyter-widgets/controls",
          "model_name": "DescriptionStyleModel",
          "model_module_version": "1.5.0",
          "state": {
            "_model_module": "@jupyter-widgets/controls",
            "_model_module_version": "1.5.0",
            "_model_name": "DescriptionStyleModel",
            "_view_count": null,
            "_view_module": "@jupyter-widgets/base",
            "_view_module_version": "1.2.0",
            "_view_name": "StyleView",
            "description_width": ""
          }
        }
      }
    }
  },
  "cells": [
    {
      "cell_type": "markdown",
      "metadata": {
        "id": "view-in-github",
        "colab_type": "text"
      },
      "source": [
        "<a href=\"https://colab.research.google.com/github/Yumna-Salaas/DataScience_Udemy/blob/main/MNIST.ipynb\" target=\"_parent\"><img src=\"https://colab.research.google.com/assets/colab-badge.svg\" alt=\"Open In Colab\"/></a>"
      ]
    },
    {
      "cell_type": "markdown",
      "source": [
        "Importing needed libraries, tfds has many preinstalled datasets within it, including MNIST\n"
      ],
      "metadata": {
        "id": "7vReziNmRJlq"
      }
    },
    {
      "cell_type": "code",
      "execution_count": null,
      "metadata": {
        "id": "Kz5LGJIAagyv"
      },
      "outputs": [],
      "source": [
        "import numpy as np\n",
        "import tensorflow as tf\n",
        "import tensorflow_datasets as tfds"
      ]
    },
    {
      "cell_type": "markdown",
      "source": [
        "Pre-processing the data\n",
        "\n",
        "*   extracting training, testing, and validation\n",
        "*   scaling the inputs from (0-255) to (0.0-1.0)\n",
        "*   shuffeling the data using a buffer\n",
        "*   using mini-batch GD wtih an assigned batch size\n",
        "*   iterating through batches\n",
        "\n",
        "\n",
        "\n",
        "\n",
        "\n",
        "\n"
      ],
      "metadata": {
        "id": "3GboevQ4RU4K"
      }
    },
    {
      "cell_type": "code",
      "source": [
        "mnist_dataset, mnist_info = tfds.load(name ='mnist', with_info=True, as_supervised=True)"
      ],
      "metadata": {
        "id": "2cWhf4dDa8z4",
        "colab": {
          "base_uri": "https://localhost:8080/",
          "height": 84,
          "referenced_widgets": [
            "fd9e93ff9b56450690c8f0f96187e487",
            "e62c96c6fbfa4608b5a6915dc31541a1",
            "519ca3eab64e43e0b0a6556e87a5755f",
            "1b1c6545e7ba4029bf86ce8814a7ec7b",
            "f25ea86071a4473694fff89d2514716d",
            "2d090bab6e764e4cb1239b29ede33865",
            "54ac03e2e6fe4a36a2322c6021e9ae94",
            "47a76b3fe9b54861adca3123d1c3ca44",
            "4e98fb8041c149118b9849aa37635879",
            "303674be78084f59b155cc1733825700",
            "be3bb0c565f24315bc9f63389f021df0"
          ]
        },
        "outputId": "0eb17eda-1da1-43c6-fd93-0dc0071c306e"
      },
      "execution_count": null,
      "outputs": [
        {
          "output_type": "stream",
          "name": "stdout",
          "text": [
            "Downloading and preparing dataset 11.06 MiB (download: 11.06 MiB, generated: 21.00 MiB, total: 32.06 MiB) to /root/tensorflow_datasets/mnist/3.0.1...\n"
          ]
        },
        {
          "output_type": "display_data",
          "data": {
            "text/plain": [
              "Dl Completed...:   0%|          | 0/5 [00:00<?, ? file/s]"
            ],
            "application/vnd.jupyter.widget-view+json": {
              "version_major": 2,
              "version_minor": 0,
              "model_id": "fd9e93ff9b56450690c8f0f96187e487"
            }
          },
          "metadata": {}
        },
        {
          "output_type": "stream",
          "name": "stdout",
          "text": [
            "Dataset mnist downloaded and prepared to /root/tensorflow_datasets/mnist/3.0.1. Subsequent calls will reuse this data.\n"
          ]
        }
      ]
    },
    {
      "cell_type": "code",
      "source": [
        "#extract train and test data\n",
        "mnist_train, mnist_test = mnist_dataset['train'], mnist_dataset['test']\n",
        "\n",
        "#get the number of samples from mnist_info\n",
        "n_validation_samples = 0.1*mnist_info.splits['train'].num_examples\n",
        "\n",
        "#cast the number variable into an integer\n",
        "n_validation_samples = tf.cast(n_validation_samples, tf.int64)\n",
        "\n",
        "\n",
        "n_test_samples = mnist_info.splits['test'].num_examples\n",
        "n_test_samples = tf.cast(n_test_samples, tf.int64)\n",
        "\n",
        "#scale the images to have inputs between 0-1, so we divide by 255\n",
        "def scale(image, label):\n",
        "  image = tf.cast(image, tf.float32) #make sure all inputs are floats\n",
        "  image /=255. # number is a float\n",
        "  return image, label\n",
        "\n",
        "scaled_train_and_validation_data = mnist_train.map(scale) #map allows to apply a custom transformation to a dataset, must have input and label\n",
        "scaled_test_data = mnist_test.map(scale) #applying the scaling transoformation\n",
        "\n",
        "\n",
        "\n",
        "#SHUFFLING THE DATA\n",
        "Buffer_size = 10000 # to tell tf to shuffle every 10k together, then next 10k, till the end\n",
        "shuffled_train_and_validation_data = scaled_train_and_validation_data.shuffle(Buffer_size)\n",
        "\n",
        "validation_data = shuffled_train_and_validation_data.take(n_validation_samples)\n",
        "\n",
        "#extracting training data without validation data\n",
        "train_data = shuffled_train_and_validation_data.skip(n_validation_samples)\n",
        "\n",
        "\n",
        "#Using mini batch GD\n",
        "Batch_Size = 100\n",
        "train_data = train_data.batch(Batch_Size) #tells the model how many samples it should take in each batch to train\n",
        "\n",
        "#set validation and test data in batch form too, because the model expects everything to be in batches\n",
        "validation_data = validation_data.batch(n_validation_samples)\n",
        "test_data = scaled_test_data.batch(n_test_samples)\n",
        "\n",
        "#validation must have same format as training and testing\n",
        "validation_inputs, validation_targets = next(iter(validation_data)) #iter allows iteration iin the object one element at a time\n",
        "                                                                    #next loads the next element/batch in an iterable object"
      ],
      "metadata": {
        "id": "SmwarhnEcq5V"
      },
      "execution_count": null,
      "outputs": []
    },
    {
      "cell_type": "markdown",
      "source": [
        "Outline the model\n",
        "\n",
        "*   input layer: 784 (28x28 pixels)\n",
        "*   output layer: 10 (10 classes/digits)\n",
        "*   2 Hidden layers, 50 nodes each\n",
        "\n",
        "\n",
        "\n"
      ],
      "metadata": {
        "id": "Wmjmt6ZuFu8_"
      }
    },
    {
      "cell_type": "code",
      "source": [
        "input_size = 784\n",
        "output_size = 10\n",
        "hiddenlayer_size = 100\n",
        "\n",
        "#keras function that is used to stack layers\n",
        "model = tf.keras.Sequential([\n",
        "                              tf.keras.layers.Flatten(input_shape=(28,28,1)), #transforms/flattens 2d tensor into a vector\n",
        "                              tf.keras.layers.Dense(hiddenlayer_size, activation='relu'), #takes input, calculate dot product and weights to add bias (activation function)\n",
        "                                                                                          #Takes the output of the first math operation, first hidden layer\n",
        "                              tf.keras.layers.Dense(hiddenlayer_size, activation='relu'), #the second hidden layer and activation function\n",
        "                              tf.keras.layers.Dense(output_size, activation='softmax') #the output layer, we use softmax to transofrm values into probabilities\n",
        "                            ])"
      ],
      "metadata": {
        "id": "sKczZ3-3SqSs"
      },
      "execution_count": null,
      "outputs": []
    },
    {
      "cell_type": "markdown",
      "source": [
        "Choosing the optimizer and loss function"
      ],
      "metadata": {
        "id": "DVsM5vUXIOCN"
      }
    },
    {
      "cell_type": "code",
      "source": [
        "#configuring the model for training\n",
        "model.compile(optimizer='adam', loss='sparse_categorical_crossentropy', metrics=['accuracy'])\n",
        "\n",
        "#optimizer is the optimization function,\n",
        "  #examples, SGD:Stocastic Gradient Descent, ADAM: Adaptive Moment Estimation, GD: Gradient Descent, Momentum GD,\n",
        "\n",
        "#3 types of loss functions crossnetropy\n",
        "  #Binary_crossentropy: used when u have binary encoding\n",
        "  #Categorical_crossentropy: expects that u one-hot encoded the targets\n",
        "  #Sparse_categorical_crossentropy: applies one-hot encoding\n"
      ],
      "metadata": {
        "id": "yiCS8hYmIggA"
      },
      "execution_count": null,
      "outputs": []
    },
    {
      "cell_type": "markdown",
      "source": [
        "Training/Fitting the model"
      ],
      "metadata": {
        "id": "dxwGRnQlajyK"
      }
    },
    {
      "cell_type": "code",
      "source": [
        "n_epochs = 5\n",
        "\n",
        "#verbose used to only recieve important info for each epoch, training accuracy\n",
        "model.fit(train_data, epochs=n_epochs, validation_data=(validation_inputs, validation_targets), verbose=2)\n",
        "\n",
        "#at the end of each epoch, the algo will forward propagate the whole validation set in a single batch\n",
        "#training will be over after doing 5 epochs, going through training and validation 5 times\n",
        "\n",
        "#OUTPUT\n",
        "\n",
        "  #540/540 is the number of batches, the weights & bias get updated after every batch. 70k --> 10k testing, 60k vali and train, 10% vali --> 54k images training\n",
        "  # *s is the number of second it took to finish the epoch\n",
        "  #loss, to be compared with other epochs, should gradually decrease\n",
        "  #accuracy, percentage of the output being equal to target\n",
        "  #val_loss & val_accuracy, validation data\n",
        "    #val_loss helps us understand if the model is overfitting\n",
        "    #val_accuracy is the tru accuracy of the model for the epoch of the WHOLE vali set, while accuracy is the avg across batches\n",
        "\n",
        "\n",
        "#OVERFITTING\n",
        "  #if accuracy is high, but val_accuracy is low --> model is overfitted"
      ],
      "metadata": {
        "colab": {
          "base_uri": "https://localhost:8080/"
        },
        "id": "DifjGb1Janwm",
        "outputId": "387c542a-b7eb-482c-959a-8f3ca12d7913"
      },
      "execution_count": null,
      "outputs": [
        {
          "output_type": "stream",
          "name": "stdout",
          "text": [
            "Epoch 1/5\n",
            "540/540 - 8s - loss: 0.3321 - accuracy: 0.9058 - val_loss: 0.1791 - val_accuracy: 0.9470 - 8s/epoch - 16ms/step\n",
            "Epoch 2/5\n",
            "540/540 - 5s - loss: 0.1398 - accuracy: 0.9582 - val_loss: 0.1085 - val_accuracy: 0.9690 - 5s/epoch - 8ms/step\n",
            "Epoch 3/5\n",
            "540/540 - 4s - loss: 0.0958 - accuracy: 0.9700 - val_loss: 0.0890 - val_accuracy: 0.9727 - 4s/epoch - 8ms/step\n",
            "Epoch 4/5\n",
            "540/540 - 3s - loss: 0.0742 - accuracy: 0.9777 - val_loss: 0.0707 - val_accuracy: 0.9787 - 3s/epoch - 6ms/step\n",
            "Epoch 5/5\n",
            "540/540 - 3s - loss: 0.0590 - accuracy: 0.9820 - val_loss: 0.0618 - val_accuracy: 0.9823 - 3s/epoch - 6ms/step\n"
          ]
        },
        {
          "output_type": "execute_result",
          "data": {
            "text/plain": [
              "<keras.src.callbacks.History at 0x7e9e795bc3a0>"
            ]
          },
          "metadata": {},
          "execution_count": 6
        }
      ]
    },
    {
      "cell_type": "markdown",
      "source": [
        "Testing the model"
      ],
      "metadata": {
        "id": "wmgkdR55jbhw"
      }
    },
    {
      "cell_type": "code",
      "source": [
        "#Validation: makes sure the parameters (weights and bias) dont overfit\n",
        "#Testing: makes sure the hyperparameters (width, depth, batch size, n epochs, etc..) dont overfit\n",
        "\n",
        "#returns the loss value and metrics for the model in testing\n",
        "test_loss, test_accuracy =model.evaluate(test_data)"
      ],
      "metadata": {
        "colab": {
          "base_uri": "https://localhost:8080/"
        },
        "id": "PweMG9d-bOCq",
        "outputId": "fdc94f10-0457-4692-adb8-b79560726b2f"
      },
      "execution_count": null,
      "outputs": [
        {
          "output_type": "stream",
          "name": "stdout",
          "text": [
            "1/1 [==============================] - 1s 1s/step - loss: 0.0878 - accuracy: 0.9733\n"
          ]
        }
      ]
    },
    {
      "cell_type": "code",
      "source": [
        "#to print the results\n",
        "print('Test loss: {0:.2f}. Test accuracy: {1:.2f}%'.format(test_loss, test_accuracy*100.))"
      ],
      "metadata": {
        "colab": {
          "base_uri": "https://localhost:8080/"
        },
        "id": "LsvKRwMWkveo",
        "outputId": "6aa0e7f2-898f-4e9b-a748-e27599137df8"
      },
      "execution_count": null,
      "outputs": [
        {
          "output_type": "stream",
          "name": "stdout",
          "text": [
            "Test loss: 0.09. Test accuracy: 97.33%\n"
          ]
        }
      ]
    },
    {
      "cell_type": "markdown",
      "source": [
        "Important notes:\n",
        "\n",
        "*   After testing the model, conceptually, we are no longer allowed to change the model or play with it, because the test data is no longer data that the machine has never seen before\n",
        "\n",
        "*   Test data set is used to simulate model deployement and how it will act in the real world\n",
        "\n",
        "*   Getting accuracy very close to val_accuracy shows that there is no overfitting\n",
        "\n",
        "*   The test accuracy is the real accuracy of the model\n",
        "\n",
        "\n",
        "\n"
      ],
      "metadata": {
        "id": "LWmUVWHDldnK"
      }
    }
  ]
}